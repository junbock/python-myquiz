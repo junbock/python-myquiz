{
 "cells": [
  {
   "cell_type": "markdown",
   "metadata": {},
   "source": [
    "1번 문제\n",
    "\n",
    "유상무씨는 한 문장에 같은 단어를 두번 쓰는 최신유머를 공부하고 있다.\n",
    "\n",
    "ex) 최신 유머집\n",
    "\n",
    "    간디가 어딜 간디?\n",
    "    \n",
    "    이망고가 얼망고?\n",
    "    \n",
    "    고로케가 고로케 맛있나?\n",
    "\n",
    "유상무씨는 아직 공부가 부족해 정확하게 최신 유머를 구사하지 못하고 있다.\n",
    "\n",
    "유상무씨가 내뱉는 유머가 최신 유머인지 아닌지 구분해주는 프로그램을 만들어주자.\n",
    "(한글자 단어는 제외)\n",
    "\n",
    "ex)\n",
    "1. 입력 : 간디가 어딜 간디?\n",
    "   출력 : 간디를 활용한 최신 유머.\n",
    "\n",
    "2. 입력 : 장보고가 장보고오래\n",
    "   출력 : 장보고를 활용한 최신 유머.\n",
    "\n",
    "3. 입력 : 유세윤 장동민 유상무.\n",
    "   출력 : 최신 유머가 아니다."
   ]
  },
  {
   "cell_type": "code",
   "execution_count": 34,
   "metadata": {},
   "outputs": [
    {
     "name": "stdout",
     "output_type": "stream",
     "text": [
      "망고 을/를 활용한 최신 유머다.\n",
      "간디 을/를 활용한 최신 유머다.\n",
      "최신 유머가 아니다.\n"
     ]
    }
   ],
   "source": [
    "def is_humor(humor):\n",
    "    if type(humor) == str:\n",
    "        words = humor.split()\n",
    "        set_list = list()\n",
    "        for words_i in range(len(words)):\n",
    "            set0 = set()\n",
    "            for i in range(len(words[words_i])):\n",
    "                set0 = set0.union({words[words_i][i:j] for j in range(i, len(words[words_i])+1) if j-i >1})\n",
    "            set_list.append(set0)\n",
    "        #print(set_list)\n",
    "        for i in range(len(set_list)):\n",
    "            for j in range(i+1, len(set_list)):\n",
    "                if len(set_list[i].intersection(set_list[j])) > 0:\n",
    "                    print('%s 을/를 활용한 최신 유머다.' %set_list[i].intersection(set_list[j]).pop())\n",
    "                    return\n",
    "    print('최신 유머가 아니다.')\n",
    "\n",
    "is_humor('이망고가 얼망고?')\n",
    "is_humor('간디가 어딜 간디?')\n",
    "is_humor('유상무 개그')"
   ]
  }
 ],
 "metadata": {
  "kernelspec": {
   "display_name": "Python 3",
   "language": "python",
   "name": "python3"
  },
  "language_info": {
   "codemirror_mode": {
    "name": "ipython",
    "version": 3
   },
   "file_extension": ".py",
   "mimetype": "text/x-python",
   "name": "python",
   "nbconvert_exporter": "python",
   "pygments_lexer": "ipython3",
   "version": "3.7.6"
  }
 },
 "nbformat": 4,
 "nbformat_minor": 4
}
